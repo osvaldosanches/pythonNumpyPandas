{
 "cells": [
  {
   "cell_type": "markdown",
   "metadata": {},
   "source": [
    "Criar duas listas que contenham: \n",
    "*Lista 1: produto\n",
    "*Lista 2: preço\n",
    "\n",
    "Depois, faça um dicionario cuja chave seja o produto da lista 1 e o preço da lista 2\n"
   ]
  },
  {
   "cell_type": "code",
   "execution_count": 1,
   "metadata": {},
   "outputs": [
    {
     "name": "stdout",
     "output_type": "stream",
     "text": [
      "revista 15\n",
      "jornal 10\n",
      "livro 50\n"
     ]
    }
   ],
   "source": [
    "import numpy as np\n",
    "\n",
    "listaProduto = ['revista','jornal','livro']\n",
    "\n",
    "listaPreco = [15,10,50]\n",
    "\n",
    "for a, b in zip(listaProduto, listaPreco):\n",
    " \n",
    "    print(a,b)\n",
    "    "
   ]
  },
  {
   "cell_type": "code",
   "execution_count": null,
   "metadata": {},
   "outputs": [],
   "source": []
  }
 ],
 "metadata": {
  "kernelspec": {
   "display_name": "Python 3",
   "language": "python",
   "name": "python3"
  },
  "language_info": {
   "codemirror_mode": {
    "name": "ipython",
    "version": 3
   },
   "file_extension": ".py",
   "mimetype": "text/x-python",
   "name": "python",
   "nbconvert_exporter": "python",
   "pygments_lexer": "ipython3",
   "version": "3.7.4"
  }
 },
 "nbformat": 4,
 "nbformat_minor": 2
}
