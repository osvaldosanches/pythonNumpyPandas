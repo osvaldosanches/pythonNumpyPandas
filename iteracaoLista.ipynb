{
 "cells": [
  {
   "cell_type": "code",
   "execution_count": 2,
   "metadata": {},
   "outputs": [
    {
     "name": "stdout",
     "output_type": "stream",
     "text": [
      "{0: 1.2350559191952828, 1: 0.6396010631149512, 2: -0.5982194030989632, 3: -0.5413414904809773, 4: 0.1623082968619064, 5: -0.44569578817543093, 6: 1.2330580728813094}\n"
     ]
    }
   ],
   "source": [
    "import numpy as np\n",
    "data = {i : np.random.randn() for i in range(7)}\n",
    "print(data)\n"
   ]
  },
  {
   "cell_type": "code",
   "execution_count": 11,
   "metadata": {},
   "outputs": [
    {
     "name": "stdout",
     "output_type": "stream",
     "text": [
      "0 ford\n",
      "1 fiat\n",
      "2 XXX\n",
      "3 yyyyy\n"
     ]
    }
   ],
   "source": [
    "lista2 = ['ford', 'fiat', 'XXX', 'yyyyy']\n",
    "i = 0\n",
    "while i < 4:\n",
    "    print (i, lista2 [i])\n",
    "    i += 1\n"
   ]
  },
  {
   "cell_type": "code",
   "execution_count": 10,
   "metadata": {},
   "outputs": [
    {
     "name": "stdout",
     "output_type": "stream",
     "text": [
      "ford 0\n",
      "fiat 1\n",
      "XXX 2\n",
      "yyyyy 3\n"
     ]
    }
   ],
   "source": [
    "lista = ['ford', 'fiat', 'XXX', 'yyyyy']\n",
    "\n",
    "i = 0\n",
    "for a in (lista):\n",
    " \n",
    "    print(a, i)\n",
    "    i += 1\n",
    "    "
   ]
  },
  {
   "cell_type": "code",
   "execution_count": 13,
   "metadata": {},
   "outputs": [
    {
     "name": "stdout",
     "output_type": "stream",
     "text": [
      "['ola', 2.0, 10, [10, 20]]\n"
     ]
    }
   ],
   "source": [
    "lista_mista = [\"ola\", 2.0, 5*2, [10, 20]]\n",
    "print(lista_mista)\n",
    "\n"
   ]
  },
  {
   "cell_type": "code",
   "execution_count": 14,
   "metadata": {},
   "outputs": [
    {
     "name": "stdout",
     "output_type": "stream",
     "text": [
      "[[17, 123], ['iteracao', 'selecao', 'controle']]\n"
     ]
    }
   ],
   "source": [
    "vocabulario = [\"iteracao\", \"selecao\", \"controle\"]\n",
    "numeros = [17, 123]\n",
    "\n",
    "nova_lista = [numeros, vocabulario]\n",
    "print(nova_lista)"
   ]
  },
  {
   "cell_type": "code",
   "execution_count": 33,
   "metadata": {},
   "outputs": [
    {
     "name": "stdout",
     "output_type": "stream",
     "text": [
      "{0: ['Ford', 4], 1: ['Fiat', 4], 2: ['Porche', 6], 3: ['Ferrari', 7]}\n"
     ]
    }
   ],
   "source": [
    "listaCarros = ['Ford', 'Fiat', 'Porche', 'Ferrari']\n",
    "\n",
    "map = {}\n",
    "\n",
    "for x, y in enumerate (listaCarros):\n",
    "           \n",
    "    map[x] = [y,len(y)]\n",
    "    \n",
    "print (map)\n",
    "\n",
    "   \n",
    "    "
   ]
  },
  {
   "cell_type": "code",
   "execution_count": 3,
   "metadata": {},
   "outputs": [
    {
     "name": "stdout",
     "output_type": "stream",
     "text": [
      "{0: ['ab', 2], 1: ['bcc', 3], 2: ['cddd', 4], 3: ['e', 1], 4: ['eeeeffff', 8]}\n"
     ]
    }
   ],
   "source": [
    "lista = ['ab', 'bcc', 'cddd', 'e', 'eeeeffff']\n",
    "\n",
    "map = {}\n",
    "\n",
    "for i, v in enumerate(lista):\n",
    "    \n",
    "    map[i] = [v,len(lista[i])]\n",
    "    \n",
    "print (map)\n"
   ]
  },
  {
   "cell_type": "code",
   "execution_count": 40,
   "metadata": {},
   "outputs": [
    {
     "data": {
      "text/plain": [
       "str"
      ]
     },
     "execution_count": 40,
     "metadata": {},
     "output_type": "execute_result"
    }
   ],
   "source": [
    "ll = [1, 'teste']\n",
    "\n",
    "type(ll)\n",
    "#type(ll[0])\n",
    "#type(ll[1])\n"
   ]
  },
  {
   "cell_type": "code",
   "execution_count": 44,
   "metadata": {},
   "outputs": [
    {
     "data": {
      "text/plain": [
       "['a', 'e', 'l', 'r', 's', 't']"
      ]
     },
     "execution_count": 44,
     "metadata": {},
     "output_type": "execute_result"
    }
   ],
   "source": [
    "letras = ['ab', 'bcc', 'cddd', 'e', 'eeeeffff']\n",
    "\n",
    "numeros = ['12', '1223', '655', '222', '98']\n",
    "\n",
    "sorted ('letras')\n",
    "#sorted (letras[3])"
   ]
  },
  {
   "cell_type": "code",
   "execution_count": 4,
   "metadata": {},
   "outputs": [
    {
     "ename": "NameError",
     "evalue": "name 'letras' is not defined",
     "output_type": "error",
     "traceback": [
      "\u001b[1;31m---------------------------------------------------------------------------\u001b[0m",
      "\u001b[1;31mNameError\u001b[0m                                 Traceback (most recent call last)",
      "\u001b[1;32m<ipython-input-4-aa6067d7ea40>\u001b[0m in \u001b[0;36m<module>\u001b[1;34m\u001b[0m\n\u001b[1;32m----> 1\u001b[1;33m \u001b[0ml10\u001b[0m \u001b[1;33m=\u001b[0m \u001b[0mlist\u001b[0m\u001b[1;33m(\u001b[0m\u001b[0mreversed\u001b[0m\u001b[1;33m(\u001b[0m\u001b[0mletras\u001b[0m\u001b[1;33m)\u001b[0m\u001b[1;33m)\u001b[0m\u001b[1;33m\u001b[0m\u001b[1;33m\u001b[0m\u001b[0m\n\u001b[0m\u001b[0;32m      2\u001b[0m \u001b[1;33m\u001b[0m\u001b[0m\n\u001b[0;32m      3\u001b[0m \u001b[0ml10\u001b[0m\u001b[1;33m\u001b[0m\u001b[1;33m\u001b[0m\u001b[0m\n",
      "\u001b[1;31mNameError\u001b[0m: name 'letras' is not defined"
     ]
    }
   ],
   "source": [
    "l10 = list(reversed(letras))\n",
    "\n",
    "l10"
   ]
  },
  {
   "cell_type": "code",
   "execution_count": 5,
   "metadata": {},
   "outputs": [
    {
     "ename": "NameError",
     "evalue": "name 'letras' is not defined",
     "output_type": "error",
     "traceback": [
      "\u001b[1;31m---------------------------------------------------------------------------\u001b[0m",
      "\u001b[1;31mNameError\u001b[0m                                 Traceback (most recent call last)",
      "\u001b[1;32m<ipython-input-5-dc3078b56ce1>\u001b[0m in \u001b[0;36m<module>\u001b[1;34m\u001b[0m\n\u001b[1;32m----> 1\u001b[1;33m \u001b[0ml11\u001b[0m \u001b[1;33m=\u001b[0m \u001b[0mlist\u001b[0m\u001b[1;33m(\u001b[0m\u001b[0mzip\u001b[0m\u001b[1;33m(\u001b[0m\u001b[0mletras\u001b[0m\u001b[1;33m,\u001b[0m\u001b[0mnumeros\u001b[0m\u001b[1;33m)\u001b[0m\u001b[1;33m)\u001b[0m\u001b[1;33m\u001b[0m\u001b[1;33m\u001b[0m\u001b[0m\n\u001b[0m\u001b[0;32m      2\u001b[0m \u001b[1;33m\u001b[0m\u001b[0m\n\u001b[0;32m      3\u001b[0m \u001b[0ml11\u001b[0m\u001b[1;33m\u001b[0m\u001b[1;33m\u001b[0m\u001b[0m\n",
      "\u001b[1;31mNameError\u001b[0m: name 'letras' is not defined"
     ]
    }
   ],
   "source": [
    "l11 = list(zip(letras,numeros))\n",
    "\n",
    "l11"
   ]
  },
  {
   "cell_type": "code",
   "execution_count": null,
   "metadata": {},
   "outputs": [],
   "source": []
  }
 ],
 "metadata": {
  "kernelspec": {
   "display_name": "Python 3",
   "language": "python",
   "name": "python3"
  },
  "language_info": {
   "codemirror_mode": {
    "name": "ipython",
    "version": 3
   },
   "file_extension": ".py",
   "mimetype": "text/x-python",
   "name": "python",
   "nbconvert_exporter": "python",
   "pygments_lexer": "ipython3",
   "version": "3.7.4"
  }
 },
 "nbformat": 4,
 "nbformat_minor": 2
}
