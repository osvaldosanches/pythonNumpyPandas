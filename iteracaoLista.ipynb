{
 "cells": [
  {
   "cell_type": "code",
   "execution_count": 6,
   "metadata": {},
   "outputs": [
    {
     "name": "stdout",
     "output_type": "stream",
     "text": [
      "{0: 0.44640480122635856, 1: 1.1076889364402696, 2: -1.465928046326695, 3: 2.1499152238602117, 4: 0.09326532990560898, 5: 0.13215218597999565, 6: -0.6337120850504486}\n"
     ]
    }
   ],
   "source": [
    "import numpy as np\n",
    "\n",
    "data = {i : np.random.randn() for i in range(7)}\n",
    "print(data)\n"
   ]
  },
  {
   "cell_type": "code",
   "execution_count": 7,
   "metadata": {},
   "outputs": [
    {
     "name": "stdout",
     "output_type": "stream",
     "text": [
      "0 ford\n",
      "1 fiat\n",
      "2 XXX\n",
      "3 yyyyy\n"
     ]
    }
   ],
   "source": [
    "lista2 = ['ford', 'fiat', 'XXX', 'yyyyy']\n",
    "i = 0\n",
    "while i < 4:\n",
    "    print (i, lista2 [i])\n",
    "    i += 1\n"
   ]
  },
  {
   "cell_type": "code",
   "execution_count": 8,
   "metadata": {},
   "outputs": [
    {
     "name": "stdout",
     "output_type": "stream",
     "text": [
      "ford 0\n",
      "fiat 1\n",
      "XXX 2\n",
      "yyyyy 3\n"
     ]
    }
   ],
   "source": [
    "lista = ['ford', 'fiat', 'XXX', 'yyyyy']\n",
    "\n",
    "i = 0\n",
    "for a in (lista):\n",
    " \n",
    "    print(a, i)\n",
    "    i += 1\n",
    "    "
   ]
  },
  {
   "cell_type": "code",
   "execution_count": 9,
   "metadata": {},
   "outputs": [
    {
     "name": "stdout",
     "output_type": "stream",
     "text": [
      "['ola', 2.0, 10, [10, 20]]\n"
     ]
    }
   ],
   "source": [
    "lista_mista = [\"ola\", 2.0, 5*2, [10, 20]]\n",
    "print(lista_mista)\n",
    "\n"
   ]
  },
  {
   "cell_type": "code",
   "execution_count": 10,
   "metadata": {},
   "outputs": [
    {
     "name": "stdout",
     "output_type": "stream",
     "text": [
      "[[17, 123], ['iteracao', 'selecao', 'controle']]\n"
     ]
    }
   ],
   "source": [
    "vocabulario = [\"iteracao\", \"selecao\", \"controle\"]\n",
    "numeros = [17, 123]\n",
    "\n",
    "nova_lista = [numeros, vocabulario]\n",
    "print(nova_lista)"
   ]
  },
  {
   "cell_type": "code",
   "execution_count": 33,
   "metadata": {},
   "outputs": [
    {
     "name": "stdout",
     "output_type": "stream",
     "text": [
      "{0: ['Ford', 4], 1: ['Fiat', 4], 2: ['Porche', 6], 3: ['Ferrari', 7]}\n"
     ]
    }
   ],
   "source": [
    "listaCarros = ['Ford', 'Fiat', 'Porche', 'Ferrari']\n",
    "\n",
    "map = {}\n",
    "\n",
    "for x, y in enumerate (listaCarros):\n",
    "           \n",
    "    map[x] = [y,len(y)]\n",
    "    \n",
    "print (map)\n",
    "\n",
    "   \n",
    "    "
   ]
  },
  {
   "cell_type": "code",
   "execution_count": 11,
   "metadata": {},
   "outputs": [
    {
     "name": "stdout",
     "output_type": "stream",
     "text": [
      "{0: ['ab', 2], 1: ['bcc', 3], 2: ['cddd', 4], 3: ['e', 1], 4: ['eeeeffff', 8]}\n"
     ]
    }
   ],
   "source": [
    "lista = ['ab', 'bcc', 'cddd', 'e', 'eeeeffff']\n",
    "\n",
    "map = {}\n",
    "\n",
    "for i, v in enumerate(lista):\n",
    "    \n",
    "    map[i] = [v,len(lista[i])]\n",
    "    \n",
    "print (map)\n"
   ]
  },
  {
   "cell_type": "code",
   "execution_count": 12,
   "metadata": {},
   "outputs": [
    {
     "data": {
      "text/plain": [
       "list"
      ]
     },
     "execution_count": 12,
     "metadata": {},
     "output_type": "execute_result"
    }
   ],
   "source": [
    "ll = [1, 'teste']\n",
    "\n",
    "type(ll)\n",
    "#type(ll[0])\n",
    "#type(ll[1])\n"
   ]
  },
  {
   "cell_type": "code",
   "execution_count": 44,
   "metadata": {},
   "outputs": [
    {
     "data": {
      "text/plain": [
       "['a', 'e', 'l', 'r', 's', 't']"
      ]
     },
     "execution_count": 44,
     "metadata": {},
     "output_type": "execute_result"
    }
   ],
   "source": [
    "letras = ['ab', 'bcc', 'cddd', 'e', 'eeeeffff']\n",
    "\n",
    "numeros = ['12', '1223', '655', '222', '98']\n",
    "\n",
    "sorted ('letras')\n",
    "#sorted (letras[3])"
   ]
  },
  {
   "cell_type": "code",
   "execution_count": null,
   "metadata": {},
   "outputs": [],
   "source": []
  }
 ],
 "metadata": {
  "kernelspec": {
   "display_name": "Python 3",
   "language": "python",
   "name": "python3"
  },
  "language_info": {
   "codemirror_mode": {
    "name": "ipython",
    "version": 3
   },
   "file_extension": ".py",
   "mimetype": "text/x-python",
   "name": "python",
   "nbconvert_exporter": "python",
   "pygments_lexer": "ipython3",
   "version": "3.7.4"
  }
 },
 "nbformat": 4,
 "nbformat_minor": 2
}
